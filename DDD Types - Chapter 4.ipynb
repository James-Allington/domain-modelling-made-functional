{
 "cells": [
  {
   "cell_type": "markdown",
   "metadata": {},
   "source": [
    "# Domain Modelling Made Functional\n",
    "\n",
    "## Understanding Types"
   ]
  },
  {
   "cell_type": "markdown",
   "metadata": {},
   "source": [
    "## Functions"
   ]
  },
  {
   "cell_type": "markdown",
   "metadata": {},
   "source": [
    "* Functions are the basis of _functional_ programming\n",
    "* They take inputs, and produce outputs\n",
    "* For any input, the output is *always* the same (we call this a pure function, but this is a what a function really is by its formal definition)\n",
    "* An example might be some function that turns an apple into a banana (weird flex, but okay)\n",
    "\n",
    "    Function apple -> banana"
   ]
  },
  {
   "cell_type": "markdown",
   "metadata": {},
   "source": [
    "#### Type Signatures\n",
    "\n",
    "* Type signatures just talk about what value the function represents"
   ]
  },
  {
   "cell_type": "code",
   "execution_count": 38,
   "metadata": {
    "dotnet_interactive": {
     "language": "fsharp"
    },
    "polyglot_notebook": {
     "kernelName": "fsharp"
    }
   },
   "outputs": [],
   "source": [
    "let addOne x = x + 1;;\n",
    "// val addOne : x:int -> int"
   ]
  },
  {
   "cell_type": "markdown",
   "metadata": {},
   "source": [
    "* You'll notice there's no return -> things are just expressions (value-returning), and the last expression is what is returned. Much like `clojure`"
   ]
  },
  {
   "cell_type": "code",
   "execution_count": 39,
   "metadata": {
    "dotnet_interactive": {
     "language": "fsharp"
    },
    "polyglot_notebook": {
     "kernelName": "fsharp"
    }
   },
   "outputs": [
    {
     "data": {
      "text/html": [
       "<div class=\"dni-plaintext\"><pre>11</pre></div><style>\r\n",
       ".dni-code-hint {\r\n",
       "    font-style: italic;\r\n",
       "    overflow: hidden;\r\n",
       "    white-space: nowrap;\r\n",
       "}\r\n",
       ".dni-treeview {\r\n",
       "    white-space: nowrap;\r\n",
       "}\r\n",
       ".dni-treeview td {\r\n",
       "    vertical-align: top;\r\n",
       "    text-align: start;\r\n",
       "}\r\n",
       "details.dni-treeview {\r\n",
       "    padding-left: 1em;\r\n",
       "}\r\n",
       "table td {\r\n",
       "    text-align: start;\r\n",
       "}\r\n",
       "table tr { \r\n",
       "    vertical-align: top; \r\n",
       "    margin: 0em 0px;\r\n",
       "}\r\n",
       "table tr td pre \r\n",
       "{ \r\n",
       "    vertical-align: top !important; \r\n",
       "    margin: 0em 0px !important;\r\n",
       "} \r\n",
       "table th {\r\n",
       "    text-align: start;\r\n",
       "}\r\n",
       "</style>"
      ]
     },
     "metadata": {},
     "output_type": "display_data"
    }
   ],
   "source": [
    "// Let's see what happens here!\n",
    "let addOneWithMore x = \n",
    "  1 + 1\n",
    "  x + 1\n",
    "\n",
    "addOneWithMore 10;;"
   ]
  },
  {
   "cell_type": "markdown",
   "metadata": {},
   "source": [
    "* What's fun and worth noting is that we are yet to have to tell our functions what the *types* of the inputs are. That's down to very clever *type inference*\n",
    "* We will likely dive more deeply into that soon.\n",
    "* We've somewhat seen what functions on many lines look like, but here's another example"
   ]
  },
  {
   "cell_type": "code",
   "execution_count": 40,
   "metadata": {
    "dotnet_interactive": {
     "language": "fsharp"
    },
    "polyglot_notebook": {
     "kernelName": "fsharp"
    }
   },
   "outputs": [
    {
     "data": {
      "text/html": [
       "<div class=\"dni-plaintext\"><pre>101</pre></div><style>\r\n",
       ".dni-code-hint {\r\n",
       "    font-style: italic;\r\n",
       "    overflow: hidden;\r\n",
       "    white-space: nowrap;\r\n",
       "}\r\n",
       ".dni-treeview {\r\n",
       "    white-space: nowrap;\r\n",
       "}\r\n",
       ".dni-treeview td {\r\n",
       "    vertical-align: top;\r\n",
       "    text-align: start;\r\n",
       "}\r\n",
       "details.dni-treeview {\r\n",
       "    padding-left: 1em;\r\n",
       "}\r\n",
       "table td {\r\n",
       "    text-align: start;\r\n",
       "}\r\n",
       "table tr { \r\n",
       "    vertical-align: top; \r\n",
       "    margin: 0em 0px;\r\n",
       "}\r\n",
       "table tr td pre \r\n",
       "{ \r\n",
       "    vertical-align: top !important; \r\n",
       "    margin: 0em 0px !important;\r\n",
       "} \r\n",
       "table th {\r\n",
       "    text-align: start;\r\n",
       "}\r\n",
       "</style>"
      ]
     },
     "metadata": {},
     "output_type": "display_data"
    }
   ],
   "source": [
    "let squareAndInc x = \n",
    "  let square x = x * x\n",
    "  square x + 1\n",
    "\n",
    "squareAndInc 10"
   ]
  },
  {
   "cell_type": "markdown",
   "metadata": {},
   "source": [
    "* Revisiting a little bit of inference, sometimes functions will work on any type (likely with a condition) -> we can use generics here"
   ]
  },
  {
   "cell_type": "code",
   "execution_count": 41,
   "metadata": {
    "dotnet_interactive": {
     "language": "fsharp"
    },
    "polyglot_notebook": {
     "kernelName": "fsharp"
    }
   },
   "outputs": [
    {
     "ename": "Error",
     "evalue": "input.fsx (6,13)-(6,16) typecheck error This expression was expected to have type\n    'int'    \nbut here has type\n    'float'    ",
     "output_type": "error",
     "traceback": [
      "input.fsx (6,13)-(6,16) typecheck error This expression was expected to have type\n",
      "    'int'    \n",
      "but here has type\n",
      "    'float'    "
     ]
    }
   ],
   "source": [
    "let areEqual x y =\n",
    "    x = y\n",
    "// val areEqual : x:'a -> y:'a -> bool when 'a : equality\n",
    "\n",
    "areEqual 10 11\n",
    "areEqual 10 10."
   ]
  },
  {
   "cell_type": "markdown",
   "metadata": {},
   "source": [
    "* Hey so this is kinda cool, we're getting a little bit more information here in our type signature!\n",
    "* We are explicitly told that this function only works on some `'a`, implying both arguments must be of type `'a`\n",
    "* Just in case it wasn't obvious, `'a` is the same as TS/Java/C# using `<T>`"
   ]
  },
  {
   "cell_type": "markdown",
   "metadata": {},
   "source": [
    "## Types & Functions"
   ]
  },
  {
   "cell_type": "markdown",
   "metadata": {},
   "source": [
    "* Types **are not** classes, they are simply names given to sets of *possible values*\n",
    "* Consider that the type `int16` is just the name given to numbers that can be represented by 16 bits!\n",
    "    * `- ( 2 ^ 15 ) -> (( 2 ^ 15 ) - 1))`\n",
    "    * -32,768 -> 32,767\n",
    "* What's cool is that's where it ends. There's no magic. That's the type.\n",
    "* Types don't have to be primitives. They can be called anything!"
   ]
  },
  {
   "cell_type": "code",
   "execution_count": 42,
   "metadata": {
    "dotnet_interactive": {
     "language": "fsharp"
    },
    "polyglot_notebook": {
     "kernelName": "fsharp"
    }
   },
   "outputs": [],
   "source": [
    "type Fruit =\n",
    "    | Apple\n",
    "    | Pear\n",
    "    | Banana"
   ]
  },
  {
   "cell_type": "markdown",
   "metadata": {},
   "source": [
    "### Values vs Objects vs Variables\n",
    "\n",
    "* It's the us and them babi\n",
    "* In fp, most things are *values*\n",
    "* A value, is just a *member* of a type (think about `int16`) from before\n",
    "* Functions can be values too! Think about our fruit function from above, it's just a value whose type is `apple -> banana`\n",
    "* Values are immutable (hence not called *variables*)\n",
    "* Objects are just encapsulation of some data structure and its associated behaviour (methods)\n",
    "* Generally speaking, objects are expected to have state, and operations that change this state must be provided by methods (dot access) -> ie Java class"
   ]
  },
  {
   "cell_type": "markdown",
   "metadata": {},
   "source": [
    "## Composition of Types"
   ]
  },
  {
   "cell_type": "markdown",
   "metadata": {},
   "source": [
    "* You'll hear the word composition a lot in functional programming -> it simply means combining *things* to get new *things* -> just like lego blocks\n",
    "* In F#, new types are built from smaller types in two key ways\n",
    "    * `and`\n",
    "    * `or`\n",
    "\n",
    "### `And`\n",
    "* Typically looks like a record. We have things that go together\n",
    "\n",
    "### `Or`\n",
    "* The more complex option\n",
    "* Consider these \"choices\", like \"one of\"\n",
    "\n",
    "```fsharp\n",
    "type FruitSnack = \n",
    "  | Apple of AppleVariety\n",
    "  | Banana of BananaVariety\n",
    "  | Cherries of CherryVariety\n",
    "```\n",
    "\n",
    "* This option, or choice is called a *discriminated union*\n",
    "\n",
    "### Product and Sum Types\n",
    "* If types are combined together using \"and\", then these are a `product` type\n",
    "* If they are \"ored\" then these are `sum` types or `tagged unions`\n",
    "  * Scotty The Flash Wlaschin will call them `choice` types, like a sensible person\n",
    "  * I personally Find these names (not Scotty's) kinda counter-intuitve as sum in mathematics implies adding, and product multiplication, but anyway"
   ]
  },
  {
   "cell_type": "markdown",
   "metadata": {},
   "source": [
    "### Working with types in F#\n",
    "\n",
    "#### Algebraic Types\n",
    "* Literally just a type system where each type is composed from smaller types"
   ]
  },
  {
   "cell_type": "markdown",
   "metadata": {},
   "source": [
    "#### Worked Examples"
   ]
  },
  {
   "cell_type": "code",
   "execution_count": 43,
   "metadata": {
    "dotnet_interactive": {
     "language": "fsharp"
    },
    "polyglot_notebook": {
     "kernelName": "fsharp"
    }
   },
   "outputs": [],
   "source": [
    "type ProductCode = ProductCode of string // Gives us a \"wrapper\" to tell us its value!\n",
    "\n",
    "// As an extension, let's get the raw value back\n",
    "let productValue p = \n",
    "  let (ProductCode v) = p\n",
    "  $\"The value of the product is {v}\";;"
   ]
  },
  {
   "cell_type": "code",
   "execution_count": 44,
   "metadata": {
    "dotnet_interactive": {
     "language": "fsharp"
    },
    "polyglot_notebook": {
     "kernelName": "fsharp"
    }
   },
   "outputs": [
    {
     "data": {
      "text/plain": [
       "The value of the product is Wazooki"
      ]
     },
     "metadata": {},
     "output_type": "display_data"
    }
   ],
   "source": [
    "// This is a bit fun, but we can use the type 'constructor'\n",
    "\"Wazooki\" |> ProductCode |> productValue;;"
   ]
  },
  {
   "cell_type": "code",
   "execution_count": 45,
   "metadata": {
    "dotnet_interactive": {
     "language": "fsharp"
    },
    "polyglot_notebook": {
     "kernelName": "fsharp"
    }
   },
   "outputs": [
    {
     "data": {
      "text/plain": [
       "Hello, Rich Hickey!"
      ]
     },
     "metadata": {},
     "output_type": "display_data"
    }
   ],
   "source": [
    "type Person = {first: String; last: String}\n",
    "\n",
    "// look at more of that juicy inference!\n",
    "let printPerson p = \n",
    "  $\"Hello, {p.first} {p.last}!\"\n",
    "\n",
    "printPerson {first = \"Rich\"; last = \"Hickey\"};;"
   ]
  },
  {
   "cell_type": "code",
   "execution_count": 46,
   "metadata": {
    "dotnet_interactive": {
     "language": "fsharp"
    },
    "polyglot_notebook": {
     "kernelName": "fsharp"
    }
   },
   "outputs": [
    {
     "data": {
      "text/plain": [
       "You ordered 27kg"
      ]
     },
     "metadata": {},
     "output_type": "display_data"
    }
   ],
   "source": [
    "type OrderQuantity = \n",
    "  | UnitQuantity of int\n",
    "  | KilogramQuantity of decimal\n",
    "\n",
    "let printQuantity q = \n",
    "    match q with\n",
    "    | UnitQuantity u ->\n",
    "        if 10 = u then \"A perfect 10 units\" else $\"You ordered {u} units\"\n",
    "    | KilogramQuantity k ->\n",
    "        if 10.0 |> decimal = k then \"Might as well have just ordered a decimal\" else $\"You ordered {k}kg\"\n",
    "\n",
    "printQuantity (27.0 |> decimal |> KilogramQuantity);;"
   ]
  },
  {
   "cell_type": "markdown",
   "metadata": {},
   "source": [
    "#### A real Breakdown of the value of types"
   ]
  },
  {
   "cell_type": "code",
   "execution_count": 47,
   "metadata": {
    "dotnet_interactive": {
     "language": "fsharp"
    },
    "polyglot_notebook": {
     "kernelName": "fsharp"
    }
   },
   "outputs": [],
   "source": [
    "type CheckNumber = int;;\n",
    "type CardNumber = string;;\n",
    "\n",
    "type CreditCardType = Visa | MasterCard;;\n",
    "\n",
    "type CreditCard = {CardType: CreditCardType; Number: CardNumber };;\n",
    "\n",
    "type PaymentMethod = \n",
    "  | Cash\n",
    "  | Check of CheckNumber\n",
    "  | Card of CreditCard\n",
    "\n",
    "type PaymentAmount = decimal;;\n",
    "\n",
    "type Currency = EUR | GBP | AUD\n",
    "\n",
    "type Payment = {Amount: PaymentAmount; Currency: Currency; Method: PaymentMethod}"
   ]
  },
  {
   "cell_type": "markdown",
   "metadata": {},
   "source": [
    "#### Extra Bits - Options, missing values & more\n",
    "\n",
    "```fsharp\n",
    "type ExampleOption = {A: Option<string>} // exact same as {A: string option}, with the latter being more idiomatic\n",
    "type ExampleList = {A: List<string>} // and again {A: string list}, again, the latter is more idiomatic\n",
    "```\n",
    "\n",
    "##### None\n",
    "\n",
    "```fsharp\n",
    "type ExampleNone = {A: None}\n",
    "```\n",
    "\n",
    "But what about the absence of anyting? Much like `void`?\n",
    "\n",
    "```fsharp\n",
    "type NothingAtAll = unit\n",
    "```\n",
    "\n",
    "##### Errors\n",
    "* As of F# 4.1, there's a built in `Result` type, but let's derive it using things we've done before!\n",
    "\n"
   ]
  },
  {
   "cell_type": "code",
   "execution_count": 48,
   "metadata": {
    "dotnet_interactive": {
     "language": "fsharp"
    },
    "polyglot_notebook": {
     "kernelName": "fsharp"
    }
   },
   "outputs": [],
   "source": [
    "type FunctionResult<'Ok, 'Error> = \n",
    "  | Success of 'Ok\n",
    "  | Failure of 'Error"
   ]
  },
  {
   "cell_type": "markdown",
   "metadata": {},
   "source": [
    "##### Lists\n",
    "\n",
    "* Lists are much the same as in clojure\n",
    "* We can destructure on them with pattern matches\n",
    "* `cons` is a very common operation which adds to the head of a list and is a \"constant time\" operation\n",
    "\n",
    "### Code & Type Organisation\n",
    "* Just do it in order. \n",
    "    * You technically don't have to, and you can use the `rec` keyword, but just don't be that guy imo"
   ]
  },
  {
   "cell_type": "markdown",
   "metadata": {},
   "source": [
    "## Random Extenion We Can Hack Together"
   ]
  },
  {
   "cell_type": "code",
   "execution_count": 49,
   "metadata": {
    "dotnet_interactive": {
     "language": "fsharp"
    },
    "polyglot_notebook": {
     "kernelName": "fsharp"
    }
   },
   "outputs": [],
   "source": [
    "let toString fruit =\n",
    "    match fruit with\n",
    "    | Apple -> \"I am an apple\"\n",
    "    | Pear -> \"I am a pear\"\n",
    "    | Banana -> \"I am inferior and sad\"\n",
    "\n",
    "\n",
    "let toFruit s =\n",
    "    match s with\n",
    "    | \"Apple\" -> Apple\n",
    "    | \"Pear\" -> Pear\n",
    "    | \"Banana\" -> Banana\n",
    "    | _ -> failwith \"Poo!\";;\n",
    "    "
   ]
  },
  {
   "cell_type": "code",
   "execution_count": 50,
   "metadata": {
    "dotnet_interactive": {
     "language": "fsharp"
    },
    "polyglot_notebook": {
     "kernelName": "fsharp"
    }
   },
   "outputs": [
    {
     "data": {
      "text/plain": [
       "[I am an apple; I am a pear; I am inferior and sad]"
      ]
     },
     "metadata": {},
     "output_type": "display_data"
    }
   ],
   "source": [
    "[\"Apple\" ; \"Pear\" ; \"Banana\"] |> List.map (toFruit >> toString) |> string;;"
   ]
  },
  {
   "cell_type": "markdown",
   "metadata": {},
   "source": [
    "> Here's something we might be more familiar with!\n",
    "\n",
    "```clojure\n",
    "; Note that in f# we get to write our functions \"in order\", but in clojure we work \"outwards\"\n",
    "(->> [\"Apple \"Pear\" \"Banana\"]\n",
    "     (map (comp toString toFruit))\n",
    "     (str))\n",
    "```"
   ]
  },
  {
   "cell_type": "code",
   "execution_count": 51,
   "metadata": {
    "dotnet_interactive": {
     "language": "fsharp"
    },
    "polyglot_notebook": {
     "kernelName": "fsharp"
    }
   },
   "outputs": [
    {
     "ename": "Error",
     "evalue": "System.Exception: Poo!\n   at FSI_0062.toFruit(String s)\n   at <StartupCode$FSI_0064>.$FSI_0064.main@()\n   at System.RuntimeMethodHandle.InvokeMethod(Object target, Void** arguments, Signature sig, Boolean isConstructor)\n   at System.Reflection.MethodBaseInvoker.InvokeWithNoArgs(Object obj, BindingFlags invokeAttr)",
     "output_type": "error",
     "traceback": [
      "System.Exception: Poo!\n",
      "   at FSI_0062.toFruit(String s)\n",
      "   at <StartupCode$FSI_0064>.$FSI_0064.main@()\n",
      "   at System.RuntimeMethodHandle.InvokeMethod(Object target, Void** arguments, Signature sig, Boolean isConstructor)\n",
      "   at System.Reflection.MethodBaseInvoker.InvokeWithNoArgs(Object obj, BindingFlags invokeAttr)"
     ]
    }
   ],
   "source": [
    "// What about a potato?!\n",
    "(toFruit >> toString) \"Potato\";;"
   ]
  },
  {
   "cell_type": "code",
   "execution_count": 52,
   "metadata": {
    "dotnet_interactive": {
     "language": "fsharp"
    },
    "polyglot_notebook": {
     "kernelName": "fsharp"
    }
   },
   "outputs": [
    {
     "data": {
      "text/plain": [
       "[Banana; Apple; Pear]"
      ]
     },
     "metadata": {},
     "output_type": "display_data"
    }
   ],
   "source": [
    "let prependFruit fruit fruits: Fruit list = fruit :: fruits\n",
    "\n",
    "[\"Apple\" ; \"Pear\"] |> List.map toFruit |> prependFruit (\"Banana\" |> toFruit) |> string"
   ]
  }
 ],
 "metadata": {
  "kernelspec": {
   "display_name": ".NET (F#)",
   "language": "F#",
   "name": ".net-fsharp"
  },
  "language_info": {
   "name": "polyglot-notebook"
  },
  "polyglot_notebook": {
   "kernelInfo": {
    "defaultKernelName": "fsharp",
    "items": [
     {
      "aliases": [],
      "languageName": "fsharp",
      "name": "fsharp"
     }
    ]
   }
  }
 },
 "nbformat": 4,
 "nbformat_minor": 2
}
